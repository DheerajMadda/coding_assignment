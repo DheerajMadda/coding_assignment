{
 "cells": [
  {
   "cell_type": "markdown",
   "id": "4b8efb05",
   "metadata": {},
   "source": [
    "## 1. Imports"
   ]
  },
  {
   "cell_type": "code",
   "execution_count": 1,
   "id": "031010c9",
   "metadata": {},
   "outputs": [],
   "source": [
    "import os\n",
    "os.chdir(\"..\")"
   ]
  },
  {
   "cell_type": "code",
   "execution_count": 1,
   "id": "c98f2c6d",
   "metadata": {},
   "outputs": [],
   "source": [
    "import shutil\n",
    "import pandas as pd\n",
    "from typing import List"
   ]
  },
  {
   "cell_type": "markdown",
   "id": "71fa58fe",
   "metadata": {},
   "source": [
    "## 2. Define necessary variables"
   ]
  },
  {
   "cell_type": "code",
   "execution_count": 2,
   "id": "6739d533",
   "metadata": {},
   "outputs": [],
   "source": [
    "train_images_dir =  os.path.join(\"data\", \"bdd100k_images_100k\", \"bdd100k\", \"images\", \"100k\", \"train\")\n",
    "val_images_dir =  os.path.join(\"data\", \"bdd100k_images_100k\", \"bdd100k\", \"images\", \"100k\", \"val\")\n",
    "\n",
    "train_labels_dir = os.path.join(\"data\", \"bdd100k_labels_txt\", \"bdd100k\", \"labels\", \"train\")\n",
    "val_labels_dir =  os.path.join(\"data\", \"bdd100k_labels_txt\", \"bdd100k\", \"labels\", \"val\")\n",
    "\n",
    "train_label_df = pd.read_csv(os.path.join(\"data\", \"bdd100k_labels_csv\", \"train_labels.csv\"))\n",
    "val_label_df = pd.read_csv(os.path.join(\"data\", \"bdd100k_labels_csv\", \"val_labels.csv\"))\n",
    "\n",
    "attributes = {\n",
    "    \"weather\": [\n",
    "        \"clear\", \"rainy\", \"undefined\", \"snowy\", \"overcast\",\"partly cloudy\", \"foggy\"\n",
    "    ],\n",
    "    \"scene\": [\n",
    "        \"city street\", \"highway\", \"residential\", \"parking lot\",\n",
    "        \"undefined\", \"tunnel\", \"gas stations\"\n",
    "    ],\n",
    "    \"timeofday\": [\n",
    "        \"daytime\", \"dawn/dusk\", \"night\", \"undefined\"\n",
    "    ],\n",
    "    \"label\": [\n",
    "        \"occluded\", \"truncated\", \"small\", \"medium\", \"large\", \"uncertain\"\n",
    "    ]\n",
    "}"
   ]
  },
  {
   "cell_type": "markdown",
   "id": "13f1a349",
   "metadata": {},
   "source": [
    "## 3. Save n_samples to disk (will be used for fiftyone)"
   ]
  },
  {
   "cell_type": "code",
   "execution_count": 3,
   "id": "84dbb6e7",
   "metadata": {},
   "outputs": [],
   "source": [
    "def save_data(\n",
    "    df: pd.DataFrame,\n",
    "    image_dir: str,\n",
    "    label_dir: str,\n",
    "    attributes: List[str],\n",
    "    save_path: str,\n",
    "    n_samples: int=100\n",
    "    ):\n",
    "    \n",
    "    for category in attributes:\n",
    "        for sub_category in attributes[category]:\n",
    "            \n",
    "            if category == \"label\":\n",
    "                if sub_category in [\"occluded\", \"truncated\", \"small\", \"medium\", \"large\"]:\n",
    "                    sub_category_df = df.query(f\"{sub_category} == True and uncertain == False\")\n",
    "                elif sub_category == \"uncertain\":\n",
    "                    sub_category_df = df.query(f\"{sub_category} == True\")\n",
    "            else:\n",
    "                sub_category_df = df.query(f\"{category} == @sub_category\")\n",
    "            \n",
    "            if not len(sub_category_df):\n",
    "                continue\n",
    "\n",
    "            file_names = sub_category_df.sample(\n",
    "                n=n_samples, replace=True, random_state=42\n",
    "            )[\"file_name\"].unique().tolist()\n",
    "\n",
    "            if sub_category == \"dawn/dusk\":\n",
    "                sub_category = \"dawn_dusk\"\n",
    "\n",
    "            os.makedirs(os.path.join(save_path, \"images\", category, sub_category), exist_ok=True)\n",
    "            os.makedirs(os.path.join(save_path, \"labels\", category, sub_category), exist_ok=True)\n",
    "\n",
    "            for file_name in file_names:\n",
    "                file_df = sub_category_df.query(\"file_name == @file_name\")\n",
    "                if isinstance(file_df[\"bbox\"].iloc[0], str):\n",
    "                    file_df = file_df.copy()\n",
    "                    file_df[\"bbox\"] = file_df[\"bbox\"].apply(eval)\n",
    "\n",
    "                image_path = os.path.join(image_dir, file_name)\n",
    "                copy_image_path = os.path.join(save_path, \"images\", category, sub_category, file_name)\n",
    "                \n",
    "                write_label_path = os.path.join(\n",
    "                    save_path, \"labels\", category, sub_category, file_name.replace(\".jpg\", \".txt\")\n",
    "                )\n",
    "                \n",
    "                shutil.copyfile(image_path, copy_image_path)\n",
    "\n",
    "                with open(write_label_path, \"w\") as f:\n",
    "                    for label, bbox in zip(file_df[\"label\"], file_df[\"bbox\"]):\n",
    "                        f.write(f\"{label} \" + \" \".join(map(str, bbox)) + \"\\n\")"
   ]
  },
  {
   "cell_type": "code",
   "execution_count": 4,
   "id": "749d84ff",
   "metadata": {},
   "outputs": [],
   "source": [
    "# train\n",
    "train_save_path = os.path.join(\"data\", \"bdd100k_samples\", \"train\")\n",
    "save_data(\n",
    "    train_label_df,\n",
    "    train_images_dir,\n",
    "    train_labels_dir,\n",
    "    attributes,\n",
    "    train_save_path,\n",
    "    n_samples=100\n",
    ")\n",
    "\n",
    "# val\n",
    "val_save_path = os.path.join(\"data\", \"bdd100k_samples\", \"val\")\n",
    "save_data(\n",
    "    val_label_df,\n",
    "    val_images_dir,\n",
    "    val_labels_dir,\n",
    "    attributes,\n",
    "    val_save_path,\n",
    "    n_samples=100\n",
    ")"
   ]
  },
  {
   "cell_type": "code",
   "execution_count": null,
   "id": "54f5e8da",
   "metadata": {},
   "outputs": [],
   "source": []
  }
 ],
 "metadata": {
  "kernelspec": {
   "display_name": "Python 3 (ipykernel)",
   "language": "python",
   "name": "python3"
  },
  "language_info": {
   "codemirror_mode": {
    "name": "ipython",
    "version": 3
   },
   "file_extension": ".py",
   "mimetype": "text/x-python",
   "name": "python",
   "nbconvert_exporter": "python",
   "pygments_lexer": "ipython3",
   "version": "3.9.0"
  }
 },
 "nbformat": 4,
 "nbformat_minor": 5
}
